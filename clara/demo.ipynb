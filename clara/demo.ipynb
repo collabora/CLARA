{
 "cells": [
  {
   "cell_type": "code",
   "execution_count": 1,
   "metadata": {},
   "outputs": [
    {
     "name": "stderr",
     "output_type": "stream",
     "text": [
      "/admin/home-knoriy/miniconda3/envs/clasp/lib/python3.10/site-packages/tqdm/auto.py:21: TqdmWarning: IProgress not found. Please update jupyter and ipywidgets. See https://ipywidgets.readthedocs.io/en/stable/user_install.html\n",
      "  from .autonotebook import tqdm as notebook_tqdm\n",
      "/admin/home-knoriy/miniconda3/envs/clasp/lib/python3.10/site-packages/torch/cuda/__init__.py:546: UserWarning: Can't initialize NVML\n",
      "  warnings.warn(\"Can't initialize NVML\")\n"
     ]
    }
   ],
   "source": [
    "import torch\n",
    "import argparse\n",
    "import soundfile as sf\n",
    "from torchmetrics import MetricCollection, Recall, Accuracy, Precision, AveragePrecision\n",
    "\n",
    "from clara import PLCLARA\n",
    "from datamodule.utils import get_log_melspec\n",
    "from eval.util import get_dataset\n",
    "from eval.test_zeroshot import run as zeroshot_run\n",
    "from eval.test_zeroshot import zeroshot_classifier\n",
    "\n",
    "device = torch.device('cuda' if torch.cuda.is_available() else 'cpu')"
   ]
  },
  {
   "cell_type": "code",
   "execution_count": 2,
   "metadata": {},
   "outputs": [],
   "source": [
    "waveform, sr = sf.read('/fsx/knoriy/CLASP/clasp/demo/hello_world.mp3')\n",
    "mels = get_log_melspec(waveform, sr)"
   ]
  },
  {
   "cell_type": "code",
   "execution_count": 21,
   "metadata": {},
   "outputs": [],
   "source": [
    "templates = ['hello world', '10 am', 'tuesday', 'goodbye']"
   ]
  },
  {
   "cell_type": "code",
   "execution_count": 3,
   "metadata": {},
   "outputs": [
    {
     "data": {
      "text/plain": [
       "<matplotlib.image.AxesImage at 0x7fa5b1d309d0>"
      ]
     },
     "execution_count": 3,
     "metadata": {},
     "output_type": "execute_result"
    },
    {
     "data": {
      "image/png": "[encoded data removed]",
      "text/plain": [
       "<Figure size 640x480 with 1 Axes>"
      ]
     },
     "metadata": {},
     "output_type": "display_data"
    }
   ],
   "source": [
    "import matplotlib.pyplot as plt\n",
    "%matplotlib inline\n",
    "plt.imshow(mels.T.numpy())"
   ]
  },
  {
   "cell_type": "code",
   "execution_count": 52,
   "metadata": {},
   "outputs": [],
   "source": [
    "parser = argparse.ArgumentParser()\n",
    "parser.add_argument('--model_path', type=str, help='Path to model')\n",
    "parser.add_argument('--task', type=str, choices=['texts', 'gender', 'emotion', 'age', 'sounds', 'speech'], help='Task to run')\n",
    "parser.add_argument('--dataset_name', type=str, required=True, help='if task is sounds or emotion, specify dataset name')\n",
    "parser.add_argument('--root_cfg_path', type=str, default='./config/', help='root path to config files')\n",
    "parser.add_argument('--top_k', type=int, default=[1,5,10], help='Top k metrics to use')\n",
    "parser.add_argument('--batch_size', type=int, default=8, help='Dataloader batch size')\n",
    "parser.add_argument('--num_workers', type=int, default=12, help='Dataloader number of workers')\n",
    "\n",
    "args = parser.parse_args(\n",
    "    '--model_path /fsx/knoriy/CLASP/logs/CLASP/Emotion_datasets_76acc_42epoch_60M/checkpoints/epoch=41-step=3402.ckpt --task emotion --dataset_name emov-db --root_cfg_path ../config/'.split()\n",
    ")"
   ]
  },
  {
   "cell_type": "code",
   "execution_count": 53,
   "metadata": {},
   "outputs": [],
   "source": [
    "##############\n",
    "# Model\n",
    "##############\n",
    "model = PLCLARA.load_from_checkpoint(args.model_path, map_location=device)"
   ]
  },
  {
   "cell_type": "code",
   "execution_count": 54,
   "metadata": {},
   "outputs": [
    {
     "name": "stderr",
     "output_type": "stream",
     "text": [
      "Creating Url list\n",
      "Creating URL cache: logs/EmoV_DB.json\n",
      "Urls found: \t\t\t\n",
      "\tTrain: 10 \t\t\t\n",
      "\tValid: 2 \t\t\t\n",
      "\tTest: 3\n"
     ]
    }
   ],
   "source": [
    "##############\n",
    "# DataModule\n",
    "##############\n",
    "\n",
    "dataset, templates, classes = get_dataset(\n",
    "    task = args.task, \n",
    "    dataset_name = args.dataset_name, \n",
    "    root_cfg_path = args.root_cfg_path, \n",
    "    batch_size = args.batch_size, \n",
    "    num_workers = args.num_workers\n",
    ")"
   ]
  },
  {
   "cell_type": "code",
   "execution_count": 55,
   "metadata": {},
   "outputs": [
    {
     "name": "stdout",
     "output_type": "stream",
     "text": [
      "['a person talking in a {} voice'] {'angry': 0, 'disgusted': 1, 'amused': 2, 'sleepy': 3, 'neutral': 4}\n"
     ]
    }
   ],
   "source": [
    "print(templates, classes)"
   ]
  },
  {
   "cell_type": "code",
   "execution_count": 56,
   "metadata": {},
   "outputs": [
    {
     "name": "stderr",
     "output_type": "stream",
     "text": [
      "MiniBatch: 1it [00:08,  8.73s/it]\n"
     ]
    },
    {
     "data": {
      "text/plain": [
       "{'avg_acc@1': tensor(0.5625), 'avg_acc@5': tensor(1.)}"
      ]
     },
     "execution_count": 56,
     "metadata": {},
     "output_type": "execute_result"
    }
   ],
   "source": [
    "##############\n",
    "# Metric\n",
    "##############\n",
    "num_classes = len(classes)\n",
    "metric = MetricCollection({})\n",
    "\n",
    "for top_k in args.top_k:\n",
    "    if top_k > num_classes:\n",
    "        break\n",
    "    metric.add_metrics({\n",
    "        f\"acc@{top_k}\":Accuracy(task='multiclass', num_classes=num_classes, top_k=top_k),\n",
    "        })\n",
    "\n",
    "##############\n",
    "# Run\n",
    "##############\n",
    "dataset.setup()\n",
    "\n",
    "zeroshot_weights, all_texts = zeroshot_classifier(model, classes, templates)\n",
    "tops = zeroshot_run(model, zeroshot_weights, dataset.test_dataloader(), metric, args.task, limit_batches=1)\n",
    "tops\n"
   ]
  },
  {
   "cell_type": "code",
   "execution_count": 57,
   "metadata": {},
   "outputs": [
    {
     "data": {
      "text/plain": [
       "{'avg_acc@1': tensor(0.5625), 'avg_acc@5': tensor(1.)}"
      ]
     },
     "execution_count": 57,
     "metadata": {},
     "output_type": "execute_result"
    }
   ],
   "source": [
    "tops"
   ]
  },
  {
   "cell_type": "code",
   "execution_count": 15,
   "metadata": {},
   "outputs": [],
   "source": [
    "import sys\n",
    "import os\n",
    "\n",
    "import tqdm\n",
    "import torch\n",
    "from torch.nn.utils.rnn import pad_sequence\n",
    "from torch.nn import functional as F\n",
    "\n",
    "from torchmetrics import MetricCollection, Recall, Accuracy, Precision, AveragePrecision\n",
    "\n",
    "from clasp import PLCLASP\n",
    "from text.tokeniser import Tokeniser\n",
    "from utils import calculate_average\n",
    "from eval.util import get_dataset\n",
    "\n",
    "##############\n",
    "# Non Critical imports\n",
    "##############\n",
    "from pprint import pprint\n",
    "\n",
    "def run(model, zeroshot_weights, dataloader, metric_fn:MetricCollection, task:str, limit_batches=-1):\n",
    "\tdevice = model.device\n",
    "\tmodel.eval()\n",
    "\twith torch.no_grad():\n",
    "\t\tmetrics = []\n",
    "\n",
    "\t\tmetric_fn = metric_fn.to(device)\n",
    "\n",
    "\t\tfor i, batch in enumerate(tqdm.tqdm(dataloader, desc='MiniBatch')):\n",
    "\t\t\tlabels, mels, _, _ = batch\n",
    "\t\t\tlabels = labels['texts'].to(device)\n",
    "\t\t\tmels = mels.to(device)\n",
    "\n",
    "\t\t\t###############\n",
    "\t\t\t# Get Temps\n",
    "\t\t\t###############\n",
    "\t\t\ttext_temp, audio_temp = model.get_temps()\n",
    "\n",
    "\t\t\t###############\n",
    "\t\t\t# Audio Features\n",
    "\t\t\t###############\n",
    "\t\t\taudio_features = model.encode_audio(mels)\n",
    "\t\t\taudio_features = model.model.audio_transform(audio_features)\n",
    "\t\t\taudio_features = F.normalize(audio_features, dim=-1)\n",
    "\n",
    "\t\t\t###############\n",
    "\t\t\t# Text Features\n",
    "\t\t\t###############\n",
    "\t\t\ttext_features = model.encode_text(labels)\n",
    "\t\t\ttext_features = model.model.text_transform(text_features)\n",
    "\t\t\ttext_features = F.normalize(text_features, dim=-1)\n",
    "\n",
    "\t\t\tlogits_per_audio = (audio_temp * (audio_features @ text_features.T))\n",
    "\t\t\tlabels = torch.eye(logits_per_audio.size(0)).to(device)\n",
    "\n",
    "\t\t# \t###############\n",
    "\t\t# \t# Get metrics\n",
    "\t\t# \t###############\n",
    "\t\t\tmetric = metric_fn(logits_per_audio, labels)\n",
    "\t\t\tmetrics.append(metric)\n",
    "\t\t\tif i == limit_batches:\n",
    "\t\t\t\tbreak\n",
    "\n",
    "\t\tavg_metric = calculate_average(metrics)\n",
    "\n",
    "\treturn avg_metric"
   ]
  },
  {
   "cell_type": "code",
   "execution_count": 18,
   "metadata": {},
   "outputs": [
    {
     "name": "stderr",
     "output_type": "stream",
     "text": [
      "Creating Url list\n",
      "Creating URL cache: logs/Urbansound8K.json\n",
      "Urls found: \t\t\t\n",
      "\tTrain: 14 \t\t\t\n",
      "\tValid: 2 \t\t\t\n",
      "\tTest: 2\n",
      "MiniBatch: 110it [00:10, 10.10it/s]"
     ]
    },
    {
     "name": "stdout",
     "output_type": "stream",
     "text": [
      "{'avg_acc@1': tensor(0.5382, device='cuda:0')}\n"
     ]
    },
    {
     "name": "stderr",
     "output_type": "stream",
     "text": [
      "\n"
     ]
    }
   ],
   "source": [
    "def main(args):\n",
    "\t##############\n",
    "\t# Model\n",
    "\t##############\n",
    "\tmodel = PLCLASP.load_from_checkpoint(args.model_path).to(device)\n",
    "\n",
    "\t##############\n",
    "\t# DataModule\n",
    "\t##############\n",
    "\n",
    "\tdataset, templates, classes = get_dataset(\n",
    "\t\ttask = args.task, \n",
    "\t\tdataset_name = args.dataset_name, \n",
    "\t\troot_cfg_path = args.root_cfg_path, \n",
    "\t\tbatch_size = args.batch_size, \n",
    "\t\tnum_workers = args.num_workers\n",
    "\t)\n",
    "\n",
    "\t##############\n",
    "\t# Metric\n",
    "\t##############\n",
    "\t# num_classes = len(classes)\n",
    "\tmetric = MetricCollection({})\n",
    "\n",
    "\t# for top_k in args.top_k:\n",
    "\t# \tif top_k > num_classes:\n",
    "\t# \t\tbreak\n",
    "\t# \tmetric.add_metrics({\n",
    "\t# \t\tf\"rec@{top_k}\":Recall(task='multiclass', num_classes=num_classes, top_k=top_k),\n",
    "\t# \t\tf\"acc@{top_k}\":Accuracy(task='multiclass', num_classes=num_classes, top_k=top_k),\n",
    "\t# \t\tf\"pre@{top_k}\":Precision(task='multiclass', num_classes=num_classes, top_k=top_k),\n",
    "\t# \t\t})\n",
    "\n",
    "\t# metric.add_metrics({f\"AP\":AveragePrecision(task='multiclass', num_classes=num_classes)})\n",
    "\n",
    "\tmetric.add_metrics({f\"acc@{1}\":Accuracy(task='binary')})\n",
    "\n",
    "\t##############\n",
    "\t# Run\n",
    "\t##############\n",
    "\tdataset.setup()\n",
    "\n",
    "\tzeroshot_weights, all_texts = zeroshot_classifier(model, classes, templates)\n",
    "\ttops = run(model, zeroshot_weights, dataset.test_dataloader(), metric, args.task)\n",
    "\n",
    "\treturn tops\n",
    "\n",
    "if __name__ == '__main__':\n",
    "\timport argparse\n",
    "\tdevice = torch.device('cuda' if torch.cuda.is_available() else 'cpu')\n",
    "\n",
    "\tparser = argparse.ArgumentParser()\n",
    "\tparser.add_argument('--model_path', type=str, help='Path to model')\n",
    "\tparser.add_argument('--task', type=str, choices=['texts', 'gender', 'emotion', 'age', 'sounds', 'speech'], help='Task to run')\n",
    "\tparser.add_argument('--dataset_name', type=str, required=True, help='if task is sounds or emotion, specify dataset name')\n",
    "\tparser.add_argument('--root_cfg_path', type=str, default='./config/', help='root path to config files')\n",
    "\tparser.add_argument('--top_k', type=int, default=[1,5,10], help='Top k metrics to use')\n",
    "\tparser.add_argument('--batch_size', type=int, default=8, help='Dataloader batch size')\n",
    "\tparser.add_argument('--num_workers', type=int, default=12, help='Dataloader number of workers')\n",
    "\n",
    "\targs = parser.parse_args(\n",
    "        '--model_path ../logs/CLASP/US8K_77acc_57epoch_100M/checkpoints/epoch=57-step=15196.ckpt --task sounds --dataset_name us8k --root_cfg_path ../config/'.split()\n",
    "    )\n",
    "\n",
    "\ttops = main(args)\n",
    "\n",
    "\tpprint(tops)"
   ]
  },
  {
   "cell_type": "code",
   "execution_count": 12,
   "metadata": {},
   "outputs": [],
   "source": [
    "acc_fn = Accuracy(task='binary').to(device)"
   ]
  },
  {
   "cell_type": "code",
   "execution_count": 13,
   "metadata": {},
   "outputs": [
    {
     "data": {
      "text/plain": [
       "tensor(0.5625, device='cuda:0')"
      ]
     },
     "execution_count": 13,
     "metadata": {},
     "output_type": "execute_result"
    }
   ],
   "source": [
    "acc_fn(*tops)"
   ]
  },
  {
   "cell_type": "code",
   "execution_count": null,
   "metadata": {},
   "outputs": [],
   "source": []
  }
 ],
 "metadata": {
  "kernelspec": {
   "display_name": "clasp",
   "language": "python",
   "name": "python3"
  },
  "language_info": {
   "codemirror_mode": {
    "name": "ipython",
    "version": 3
   },
   "file_extension": ".py",
   "mimetype": "text/x-python",
   "name": "python",
   "nbconvert_exporter": "python",
   "pygments_lexer": "ipython3",
   "version": "3.10.10"
  },
  "orig_nbformat": 4
 },
 "nbformat": 4,
 "nbformat_minor": 2
}
